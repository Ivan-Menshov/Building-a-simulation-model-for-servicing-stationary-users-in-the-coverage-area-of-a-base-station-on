{
 "cells": [
  {
   "cell_type": "code",
   "execution_count": 46,
   "id": "fa8d0b0c",
   "metadata": {},
   "outputs": [],
   "source": [
    "import numpy as np\n",
    "import matplotlib.pyplot as plt"
   ]
  },
  {
   "cell_type": "code",
   "execution_count": 47,
   "id": "3c8b0f9d",
   "metadata": {},
   "outputs": [],
   "source": [
    "#функция для отрисвки тепловой карты\n",
    "#нужно указать центр окружности = (x,y) и радиус окружности = R\n",
    "def plot_circle1(x,y,r):\n",
    "    angles = np.linspace(0,2*np.pi,100)\n",
    "    x_cir = x + r*np.cos(angles)\n",
    "    y_cir = y + r*np.sin(angles)\n",
    "    plt.fill_between(x_cir, y_cir)"
   ]
  },
  {
   "cell_type": "code",
   "execution_count": 48,
   "id": "5be36337",
   "metadata": {},
   "outputs": [],
   "source": [
    "#функция для отрисвки окрудности (т.е траектории движении дрона)\n",
    "#нужно указать центр окружности = (x,y) и радиус окружности = R\n",
    "def plot_circle(x,y,r):\n",
    "    angles = np.linspace(0,2*np.pi,100)\n",
    "    x_cir = x + r*np.cos(angles)\n",
    "    y_cir = y + r*np.sin(angles)\n",
    "    plt.plot(x_cir,y_cir,color = '#EEE8AA')"
   ]
  },
  {
   "cell_type": "code",
   "execution_count": 49,
   "id": "fe563da2",
   "metadata": {},
   "outputs": [],
   "source": [
    "#функция для отрисвки области покрытия дрона\n",
    "#нужно указать центр окружности = (x,y) и радиус окружности = R\n",
    "def plot_drone_round(x,y,r):\n",
    "    angles = np.linspace(0,2*np.pi,100)\n",
    "    x_cir = x + r*np.cos(angles)\n",
    "    y_cir = y + r*np.sin(angles)\n",
    "    plt.plot(x_cir,y_cir,color = 'green')"
   ]
  },
  {
   "cell_type": "code",
   "execution_count": 50,
   "id": "25badb85",
   "metadata": {},
   "outputs": [],
   "source": [
    "# функция для создания массивов X,Y положения дрона в i-ый момент времни\n",
    "def traektory(x,y,r,iterations):\n",
    "    angles = np.linspace(0,2*np.pi,iterations)\n",
    "    X=[]\n",
    "    Y=[]\n",
    "    for i in range(len(angles)):\n",
    "        x_cir=x+r*np.cos(angles[i])\n",
    "        y_cir=y+r*np.sin(angles[i])\n",
    "        X.append(x_cir)\n",
    "        Y.append(y_cir)\n",
    "    return X,Y"
   ]
  },
  {
   "cell_type": "code",
   "execution_count": 51,
   "id": "c9225bf7",
   "metadata": {},
   "outputs": [],
   "source": [
    "# функция для расчета растояния между дроном и пользователем\n",
    "def distance(x1,y1,x2,y2):\n",
    "    return np.sqrt((x2-x1)**2+(y2-y1)**2)"
   ]
  },
  {
   "cell_type": "code",
   "execution_count": 52,
   "id": "85ed99e1",
   "metadata": {},
   "outputs": [],
   "source": [
    "N = 100 # число пользователей\n",
    "a = 0 # левая граница рассматриваемой области в км\n",
    "b = 1 # правая граница рассматриваемой области в км"
   ]
  },
  {
   "cell_type": "code",
   "execution_count": 53,
   "id": "fa919146",
   "metadata": {},
   "outputs": [],
   "source": [
    "# Задаем координаты N пользователей (равномерное распределение [a,b])\n",
    "x_user=np.random.uniform(a,b,N)\n",
    "y_user=np.random.uniform(a,b,N)"
   ]
  },
  {
   "cell_type": "code",
   "execution_count": 54,
   "id": "f6026a1d",
   "metadata": {},
   "outputs": [
    {
     "data": {
      "image/png": "[encoded data removed]",
      "text/plain": [
       "<Figure size 800x800 with 1 Axes>"
      ]
     },
     "metadata": {
      "needs_background": "light"
     },
     "output_type": "display_data"
    }
   ],
   "source": [
    "# Отрисовываем расположение пользователей на области\n",
    "plt.figure(dpi=100,figsize=(8,8))\n",
    "plt.plot(x_user,y_user,'.',color='LightSteelBlue')\n",
    "plt.xlim(a,b)\n",
    "plt.ylim(a,b)\n",
    "plt.show()"
   ]
  },
  {
   "cell_type": "code",
   "execution_count": 55,
   "id": "89d5b0bb",
   "metadata": {},
   "outputs": [],
   "source": [
    "R = 0.1  # радиус покрытия дрона в км 0.2755104213993242\n",
    "R_traektory = (b+a)/2 - R # радиус траектории движении дрона, при которой достигается оптимальная траетория движения\n",
    "X_traektory = (b+a)/2 # координата x центра для траетории\n",
    "Y_traektory = (b+a)/2 # координата y центра для траетории"
   ]
  },
  {
   "cell_type": "code",
   "execution_count": 56,
   "id": "433150c0",
   "metadata": {},
   "outputs": [],
   "source": [
    "traektory_len = 2*np.pi*R_traektory # длина траетории в км\n",
    "drone_speed = 15*10**-3 # скорость дрона в метрах\n",
    "iterations = round(traektory_len/drone_speed) # колличество итераций "
   ]
  },
  {
   "cell_type": "code",
   "execution_count": 57,
   "id": "43f7786d",
   "metadata": {},
   "outputs": [
    {
     "name": "stdout",
     "output_type": "stream",
     "text": [
      "0.9 0.5\n"
     ]
    }
   ],
   "source": [
    "# заполняем массивы X,Y положения дрона в i-ый момент времни \n",
    "X,Y=traektory(X_traektory,Y_traektory,R_traektory,iterations)\n",
    "print(X[0],Y[0])"
   ]
  },
  {
   "cell_type": "code",
   "execution_count": 58,
   "id": "7beedc70",
   "metadata": {},
   "outputs": [],
   "source": [
    "# блок для вычисления и заполнения массива покрытых пользователей в момент времени i\n",
    "covered_users=[] # задаем список, который будет хранить количство покрытых пользователей в момент времни i\n",
    "sir_users=np.array([0]*N) # задаем список, который будет вычислять SIR i - ого пользователя\n",
    "for j in range (len(X)):\n",
    "    covered = 0\n",
    "    for i in range (len(x_user)):\n",
    "        if distance(x_user[i],y_user[i],X[j],Y[j])<=R: # проверяем условие обслуживания\n",
    "            covered += 1\n",
    "            sir_users[i] += 1\n",
    "    covered_users.append(covered)"
   ]
  },
  {
   "cell_type": "code",
   "execution_count": 59,
   "id": "1807beed",
   "metadata": {},
   "outputs": [
    {
     "data": {
      "text/plain": [
       "Text(0.5, 1.0, 'Круговая траетория')"
      ]
     },
     "execution_count": 59,
     "metadata": {},
     "output_type": "execute_result"
    },
    {
     "data": {
      "image/png": "[encoded data removed]",
      "text/plain": [
       "<Figure size 432x288 with 1 Axes>"
      ]
     },
     "metadata": {
      "needs_background": "light"
     },
     "output_type": "display_data"
    }
   ],
   "source": [
    "plt.bar([i for i in range(1,101)],sir_users)\n",
    "plt.xlabel('n')\n",
    "plt.ylabel('t (n)')\n",
    "plt.title('Круговая траетория')"
   ]
  },
  {
   "cell_type": "code",
   "execution_count": 60,
   "id": "2b613607",
   "metadata": {},
   "outputs": [
    {
     "data": {
      "text/plain": [
       "Text(0.5, 1.0, 'Круговая траетория')"
      ]
     },
     "execution_count": 60,
     "metadata": {},
     "output_type": "execute_result"
    },
    {
     "data": {
      "image/png": "[encoded data removed]",
      "text/plain": [
       "<Figure size 432x288 with 1 Axes>"
      ]
     },
     "metadata": {
      "needs_background": "light"
     },
     "output_type": "display_data"
    }
   ],
   "source": [
    "plt.bar([i for i in range(1,101)],sir_users/iterations)\n",
    "plt.xlabel('n')\n",
    "plt.ylabel('p_cov (n)')\n",
    "plt.title('Круговая траетория')"
   ]
  },
  {
   "cell_type": "code",
   "execution_count": 61,
   "id": "8d617d2e",
   "metadata": {},
   "outputs": [
    {
     "name": "stdout",
     "output_type": "stream",
     "text": [
      "mean = 2.9047619047619047\n"
     ]
    },
    {
     "data": {
      "text/plain": [
       "Text(0.5, 1.0, 'Круговая траетория')"
      ]
     },
     "execution_count": 61,
     "metadata": {},
     "output_type": "execute_result"
    },
    {
     "data": {
      "image/png": "[encoded data removed]",
      "text/plain": [
       "<Figure size 432x288 with 1 Axes>"
      ]
     },
     "metadata": {
      "needs_background": "light"
     },
     "output_type": "display_data"
    }
   ],
   "source": [
    "covered_users_copy = np.copy(covered_users)\n",
    "covered_users_copy = [i/N for i in covered_users_copy]\n",
    "plt.plot(range(len(X)),covered_users_copy) # график числа покрытых пользователей\n",
    "mean = np.mean(covered_users) # математическео ожидание покрытых пользователей\n",
    "print(f'mean = {mean}')\n",
    "plt.xlabel('i')\n",
    "plt.ylabel('P cov,i')\n",
    "plt.title('Круговая траетория')"
   ]
  },
  {
   "cell_type": "code",
   "execution_count": 62,
   "id": "c7c027e8",
   "metadata": {},
   "outputs": [
    {
     "data": {
      "text/plain": [
       "array([0.        , 0.        , 0.06547619, 0.        , 0.07738095,\n",
       "       0.        , 0.        , 0.        , 0.        , 0.07142857,\n",
       "       0.        , 0.06547619, 0.        , 0.        , 0.        ,\n",
       "       0.        , 0.05952381, 0.        , 0.07142857, 0.04761905,\n",
       "       0.07738095, 0.        , 0.        , 0.08333333, 0.        ,\n",
       "       0.        , 0.        , 0.07738095, 0.        , 0.07738095,\n",
       "       0.04166667, 0.07738095, 0.        , 0.        , 0.07142857,\n",
       "       0.05952381, 0.        , 0.07738095, 0.        , 0.        ,\n",
       "       0.07142857, 0.        , 0.        , 0.08928571, 0.02380952,\n",
       "       0.07738095, 0.        , 0.        , 0.07142857, 0.        ,\n",
       "       0.03571429, 0.        , 0.02380952, 0.05952381, 0.06547619,\n",
       "       0.03571429, 0.06547619, 0.        , 0.07738095, 0.05952381,\n",
       "       0.        , 0.07142857, 0.        , 0.        , 0.07738095,\n",
       "       0.        , 0.04761905, 0.08333333, 0.        , 0.        ,\n",
       "       0.04166667, 0.        , 0.07738095, 0.        , 0.        ,\n",
       "       0.04166667, 0.        , 0.04761905, 0.05357143, 0.        ,\n",
       "       0.        , 0.06547619, 0.        , 0.        , 0.04761905,\n",
       "       0.04166667, 0.        , 0.07738095, 0.07738095, 0.        ,\n",
       "       0.        , 0.        , 0.06547619, 0.        , 0.07142857,\n",
       "       0.        , 0.05952381, 0.        , 0.        , 0.        ])"
      ]
     },
     "execution_count": 62,
     "metadata": {},
     "output_type": "execute_result"
    }
   ],
   "source": [
    "sir_users/iterations"
   ]
  },
  {
   "cell_type": "code",
   "execution_count": 63,
   "id": "5d299765",
   "metadata": {},
   "outputs": [
    {
     "name": "stdout",
     "output_type": "stream",
     "text": [
      "Выбирете момент времени от 0 до 167 : 45\n"
     ]
    }
   ],
   "source": [
    "moment = int(input(f'Выбирете момент времени от 0 до {len(X)-1} : '))"
   ]
  },
  {
   "cell_type": "code",
   "execution_count": 64,
   "id": "7fa1a948",
   "metadata": {},
   "outputs": [
    {
     "data": {
      "text/plain": [
       "Text(0.5, 1.0, 'Time: 45')"
      ]
     },
     "execution_count": 64,
     "metadata": {},
     "output_type": "execute_result"
    },
    {
     "data": {
      "image/png": "[encoded data removed]",
      "text/plain": [
       "<Figure size 800x800 with 1 Axes>"
      ]
     },
     "metadata": {
      "needs_background": "light"
     },
     "output_type": "display_data"
    }
   ],
   "source": [
    "plt.figure(dpi=100,figsize=(8,8))\n",
    "plt.xlim(a,b) #прописать границы области моделирования в ручную\n",
    "plt.ylim(a,b) #прописать границы области моделирования в ручную\n",
    "plot_circle(X_traektory,Y_traektory,R_traektory)\n",
    "#рисуем точку доступа - дрон \n",
    "plt.plot(X[moment],Y[moment],'o',color='black')\n",
    "#рисуем область покрытия дрона\n",
    "plot_drone_round(X[moment],Y[moment],R)\n",
    "for i in range (len(x_user)):\n",
    "    if distance(x_user[i],y_user[i],X[moment],Y[moment])<=R:\n",
    "        plt.plot(x_user[i],y_user[i],'.',color='green') \n",
    "    else:\n",
    "        plt.plot(x_user[i],y_user[i],'.',color='red')\n",
    "\n",
    "plt.title('Time: '+str(moment) )"
   ]
  },
  {
   "cell_type": "code",
   "execution_count": 65,
   "id": "52995905",
   "metadata": {},
   "outputs": [
    {
     "data": {
      "image/png": "[encoded data removed]",
      "text/plain": [
       "<Figure size 576x576 with 1 Axes>"
      ]
     },
     "metadata": {
      "needs_background": "light"
     },
     "output_type": "display_data"
    }
   ],
   "source": [
    "figure, axes = plt.subplots(figsize=(8,8))\n",
    "plt.xlim(a,b) #прописать границы области моделирования в ручную\n",
    "plt.ylim(a,b) #прописать границы области моделирования в ручную\n",
    "for j in range (len(X)):\n",
    "    Drawing_colored_circle = plt.Circle(( X[j] ,Y[j] ), R )\n",
    "    axes.add_artist( Drawing_colored_circle )\n",
    "plt.title( 'Тепловая карта' )\n",
    "\n",
    "plt.show()"
   ]
  },
  {
   "cell_type": "code",
   "execution_count": 66,
   "id": "0239055f",
   "metadata": {},
   "outputs": [
    {
     "name": "stdout",
     "output_type": "stream",
     "text": [
      "0\n",
      "1\n",
      "2\n",
      "3\n",
      "4\n",
      "5\n",
      "6\n",
      "7\n",
      "8\n",
      "9\n",
      "10\n",
      "11\n",
      "12\n",
      "13\n",
      "14\n",
      "15\n",
      "16\n",
      "17\n",
      "18\n",
      "19\n",
      "20\n",
      "21\n",
      "22\n",
      "23\n",
      "24\n",
      "25\n",
      "26\n",
      "27\n",
      "28\n",
      "29\n",
      "30\n",
      "31\n",
      "32\n",
      "33\n",
      "34\n",
      "35\n",
      "36\n",
      "37\n",
      "38\n",
      "39\n",
      "40\n",
      "41\n",
      "42\n",
      "43\n",
      "44\n",
      "45\n",
      "46\n",
      "47\n",
      "48\n",
      "49\n",
      "50\n",
      "51\n",
      "52\n",
      "53\n",
      "54\n",
      "55\n",
      "56\n",
      "57\n",
      "58\n",
      "59\n",
      "60\n",
      "61\n",
      "62\n",
      "63\n",
      "64\n",
      "65\n",
      "66\n",
      "67\n",
      "68\n",
      "69\n",
      "70\n",
      "71\n",
      "72\n",
      "73\n",
      "74\n",
      "75\n",
      "76\n",
      "77\n",
      "78\n",
      "79\n",
      "80\n",
      "81\n",
      "82\n",
      "83\n",
      "84\n",
      "85\n",
      "86\n",
      "87\n",
      "88\n",
      "89\n",
      "90\n",
      "91\n",
      "92\n",
      "93\n",
      "94\n",
      "95\n",
      "96\n",
      "97\n",
      "98\n",
      "99\n",
      "100\n",
      "101\n",
      "102\n",
      "103\n",
      "104\n",
      "105\n",
      "106\n",
      "107\n",
      "108\n",
      "109\n",
      "110\n",
      "111\n",
      "112\n",
      "113\n",
      "114\n",
      "115\n",
      "116\n",
      "117\n",
      "118\n",
      "119\n",
      "120\n",
      "121\n",
      "122\n",
      "123\n",
      "124\n",
      "125\n",
      "126\n",
      "127\n",
      "128\n",
      "129\n",
      "130\n",
      "131\n",
      "132\n",
      "133\n",
      "134\n",
      "135\n",
      "136\n",
      "137\n",
      "138\n",
      "139\n",
      "140\n",
      "141\n",
      "142\n",
      "143\n",
      "144\n",
      "145\n",
      "146\n",
      "147\n",
      "148\n",
      "149\n",
      "150\n",
      "151\n",
      "152\n",
      "153\n",
      "154\n",
      "155\n",
      "156\n",
      "157\n",
      "158\n",
      "159\n",
      "160\n",
      "161\n",
      "162\n",
      "163\n",
      "164\n",
      "165\n",
      "166\n",
      "167\n",
      "0\n",
      "1\n",
      "2\n",
      "3\n",
      "4\n",
      "5\n",
      "6\n",
      "7\n",
      "8\n",
      "9\n",
      "10\n",
      "11\n",
      "12\n",
      "13\n",
      "14\n",
      "15\n",
      "16\n",
      "17\n",
      "18\n",
      "19\n",
      "20\n",
      "21\n",
      "22\n",
      "23\n",
      "24\n",
      "25\n",
      "26\n",
      "27\n",
      "28\n",
      "29\n",
      "30\n",
      "31\n",
      "32\n",
      "33\n",
      "34\n",
      "35\n",
      "36\n",
      "37\n",
      "38\n",
      "39\n",
      "40\n",
      "41\n",
      "42\n",
      "43\n",
      "44\n",
      "45\n",
      "46\n",
      "47\n",
      "48\n",
      "49\n",
      "50\n",
      "51\n",
      "52\n",
      "53\n",
      "54\n",
      "55\n",
      "56\n",
      "57\n",
      "58\n",
      "59\n",
      "60\n",
      "61\n",
      "62\n",
      "63\n",
      "64\n",
      "65\n",
      "66\n",
      "67\n",
      "68\n",
      "69\n",
      "70\n",
      "71\n",
      "72\n",
      "73\n",
      "74\n",
      "75\n",
      "76\n",
      "77\n",
      "78\n",
      "79\n",
      "80\n",
      "81\n",
      "82\n",
      "83\n",
      "84\n",
      "85\n",
      "86\n",
      "87\n",
      "88\n",
      "89\n",
      "90\n",
      "91\n",
      "92\n",
      "93\n",
      "94\n",
      "95\n",
      "96\n",
      "97\n",
      "98\n",
      "99\n",
      "100\n",
      "101\n",
      "102\n",
      "103\n",
      "104\n",
      "105\n",
      "106\n",
      "107\n",
      "108\n",
      "109\n",
      "110\n",
      "111\n",
      "112\n",
      "113\n",
      "114\n",
      "115\n",
      "116\n",
      "117\n",
      "118\n",
      "119\n",
      "120\n",
      "121\n",
      "122\n",
      "123\n",
      "124\n",
      "125\n",
      "126\n",
      "127\n",
      "128\n",
      "129\n",
      "130\n",
      "131\n",
      "132\n",
      "133\n",
      "134\n",
      "135\n",
      "136\n",
      "137\n",
      "138\n",
      "139\n",
      "140\n",
      "141\n",
      "142\n",
      "143\n",
      "144\n",
      "145\n",
      "146\n",
      "147\n",
      "148\n",
      "149\n",
      "150\n",
      "151\n",
      "152\n",
      "153\n",
      "154\n",
      "155\n",
      "156\n",
      "157\n",
      "158\n",
      "159\n",
      "160\n",
      "161\n",
      "162\n",
      "163\n",
      "164\n",
      "165\n",
      "166\n",
      "167\n",
      "0saved_figure.png\n",
      "1saved_figure.png\n",
      "2saved_figure.png\n",
      "3saved_figure.png\n",
      "4saved_figure.png\n",
      "5saved_figure.png\n",
      "6saved_figure.png\n",
      "7saved_figure.png\n",
      "8saved_figure.png\n",
      "9saved_figure.png\n",
      "10saved_figure.png\n",
      "11saved_figure.png\n",
      "12saved_figure.png\n",
      "13saved_figure.png\n",
      "14saved_figure.png\n",
      "15saved_figure.png\n",
      "16saved_figure.png\n",
      "17saved_figure.png\n",
      "18saved_figure.png\n",
      "19saved_figure.png\n",
      "20saved_figure.png\n",
      "21saved_figure.png\n",
      "22saved_figure.png\n",
      "23saved_figure.png\n",
      "24saved_figure.png\n",
      "25saved_figure.png\n",
      "26saved_figure.png\n",
      "27saved_figure.png\n",
      "28saved_figure.png\n",
      "29saved_figure.png\n",
      "30saved_figure.png\n",
      "31saved_figure.png\n",
      "32saved_figure.png\n",
      "33saved_figure.png\n",
      "34saved_figure.png\n",
      "35saved_figure.png\n",
      "36saved_figure.png\n",
      "37saved_figure.png\n",
      "38saved_figure.png\n",
      "39saved_figure.png\n",
      "40saved_figure.png\n",
      "41saved_figure.png\n",
      "42saved_figure.png\n",
      "43saved_figure.png\n",
      "44saved_figure.png\n",
      "45saved_figure.png\n",
      "46saved_figure.png\n",
      "47saved_figure.png\n",
      "48saved_figure.png\n",
      "49saved_figure.png\n",
      "50saved_figure.png\n",
      "51saved_figure.png\n",
      "52saved_figure.png\n",
      "53saved_figure.png\n",
      "54saved_figure.png\n",
      "55saved_figure.png\n",
      "56saved_figure.png\n",
      "57saved_figure.png\n",
      "58saved_figure.png\n",
      "59saved_figure.png\n",
      "60saved_figure.png\n",
      "61saved_figure.png\n",
      "62saved_figure.png\n",
      "63saved_figure.png\n",
      "64saved_figure.png\n",
      "65saved_figure.png\n",
      "66saved_figure.png\n",
      "67saved_figure.png\n",
      "68saved_figure.png\n",
      "69saved_figure.png\n",
      "70saved_figure.png\n",
      "71saved_figure.png\n",
      "72saved_figure.png\n",
      "73saved_figure.png\n",
      "74saved_figure.png\n",
      "75saved_figure.png\n",
      "76saved_figure.png\n",
      "77saved_figure.png\n",
      "78saved_figure.png\n",
      "79saved_figure.png\n",
      "80saved_figure.png\n",
      "81saved_figure.png\n",
      "82saved_figure.png\n",
      "83saved_figure.png\n",
      "84saved_figure.png\n",
      "85saved_figure.png\n",
      "86saved_figure.png\n",
      "87saved_figure.png\n",
      "88saved_figure.png\n",
      "89saved_figure.png\n",
      "90saved_figure.png\n",
      "91saved_figure.png\n",
      "92saved_figure.png\n",
      "93saved_figure.png\n",
      "94saved_figure.png\n",
      "95saved_figure.png\n",
      "96saved_figure.png\n",
      "97saved_figure.png\n",
      "98saved_figure.png\n",
      "99saved_figure.png\n",
      "100saved_figure.png\n",
      "101saved_figure.png\n",
      "102saved_figure.png\n",
      "103saved_figure.png\n",
      "104saved_figure.png\n",
      "105saved_figure.png\n",
      "106saved_figure.png\n",
      "107saved_figure.png\n",
      "108saved_figure.png\n",
      "109saved_figure.png\n",
      "110saved_figure.png\n",
      "111saved_figure.png\n",
      "112saved_figure.png\n",
      "113saved_figure.png\n",
      "114saved_figure.png\n",
      "115saved_figure.png\n",
      "116saved_figure.png\n",
      "117saved_figure.png\n",
      "118saved_figure.png\n",
      "119saved_figure.png\n",
      "120saved_figure.png\n",
      "121saved_figure.png\n",
      "122saved_figure.png\n",
      "123saved_figure.png\n",
      "124saved_figure.png\n",
      "125saved_figure.png\n",
      "126saved_figure.png\n",
      "127saved_figure.png\n",
      "128saved_figure.png\n",
      "129saved_figure.png\n",
      "130saved_figure.png\n",
      "131saved_figure.png\n",
      "132saved_figure.png\n",
      "133saved_figure.png\n",
      "134saved_figure.png\n",
      "135saved_figure.png\n",
      "136saved_figure.png\n",
      "137saved_figure.png\n",
      "138saved_figure.png\n",
      "139saved_figure.png\n",
      "140saved_figure.png\n",
      "141saved_figure.png\n",
      "142saved_figure.png\n",
      "143saved_figure.png\n",
      "144saved_figure.png\n",
      "145saved_figure.png\n",
      "146saved_figure.png\n",
      "147saved_figure.png\n",
      "148saved_figure.png\n",
      "149saved_figure.png\n",
      "150saved_figure.png\n",
      "151saved_figure.png\n",
      "152saved_figure.png\n",
      "153saved_figure.png\n",
      "154saved_figure.png\n",
      "155saved_figure.png\n",
      "156saved_figure.png\n",
      "157saved_figure.png\n",
      "158saved_figure.png\n",
      "159saved_figure.png\n",
      "160saved_figure.png\n",
      "161saved_figure.png\n",
      "162saved_figure.png\n",
      "163saved_figure.png\n",
      "164saved_figure.png\n",
      "165saved_figure.png\n",
      "166saved_figure.png\n",
      "167saved_figure.png\n"
     ]
    }
   ],
   "source": [
    "#!!!!!!!!!!\n",
    "# процесс создания гиф изображения\n",
    "# не выполнять без необходимости, т.к.ваш ПК будет думать минут 10 - 20 \n",
    "screen=[]\n",
    "covered_users=[]\n",
    "for j in range (len(X)):\n",
    "    aa=plt.figure(dpi=100,figsize=(8,8))    \n",
    "    plt.xlim(a,b)\n",
    "    plt.ylim(a,b) \n",
    "    plot_circle(X_traektory,Y_traektory,R_traektory)\n",
    "    #рисуем точку доступа - дрон \n",
    "    plt.plot(X[j],Y[j],'o',color='black')\n",
    "    #рисуем область покрытия дрона\n",
    "    plot_drone_round(X[j],Y[j],R)\n",
    "    covered = 0\n",
    "    for i in range (len(x_user)):\n",
    "        if distance(x_user[i],y_user[i],X[j],Y[j])<=R:\n",
    "            plt.plot(x_user[i],y_user[i],'.',color='green') \n",
    "            covered +=1\n",
    "        else:\n",
    "            plt.plot(x_user[i],y_user[i],'.',color='red')\n",
    "    covered_users.append(covered)\n",
    "\n",
    "    plt.title('Time: '+str(j) )\n",
    "    screen.append(aa)\n",
    "    plt.close()\n",
    "    print(j)\n",
    "    \n",
    "import os\n",
    "import imageio\n",
    "\n",
    "screen_name=[]\n",
    "for i in range (len(screen)):\n",
    "    screen[i].savefig(str(i)+'saved_figure.png') \n",
    "    screen_name.append(str(i)+'saved_figure.png')\n",
    "    print(i)\n",
    "    \n",
    "with imageio.get_writer('mygif.gif', mode='I') as writer:\n",
    "    for filename in screen_name:\n",
    "        image = imageio.imread(filename)\n",
    "        writer.append_data(image)\n",
    "        print(filename)"
   ]
  },
  {
   "cell_type": "code",
   "execution_count": null,
   "id": "e532301a",
   "metadata": {},
   "outputs": [],
   "source": []
  }
 ],
 "metadata": {
  "kernelspec": {
   "display_name": "Python 3 (ipykernel)",
   "language": "python",
   "name": "python3"
  },
  "language_info": {
   "codemirror_mode": {
    "name": "ipython",
    "version": 3
   },
   "file_extension": ".py",
   "mimetype": "text/x-python",
   "name": "python",
   "nbconvert_exporter": "python",
   "pygments_lexer": "ipython3",
   "version": "3.9.7"
  }
 },
 "nbformat": 4,
 "nbformat_minor": 5
}
